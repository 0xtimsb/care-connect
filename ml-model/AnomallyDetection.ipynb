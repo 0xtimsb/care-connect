{
  "nbformat": 4,
  "nbformat_minor": 0,
  "metadata": {
    "colab": {
      "name": "AnomallyDetection.ipynb",
      "provenance": []
    },
    "kernelspec": {
      "name": "python3",
      "display_name": "Python 3"
    }
  },
  "cells": [
    {
      "cell_type": "markdown",
      "metadata": {
        "id": "qnRWkdZtc2W4"
      },
      "source": [
        "# IMPORTS"
      ]
    },
    {
      "cell_type": "code",
      "metadata": {
        "id": "takcm8Cjat2z"
      },
      "source": [
        "import pandas as pd\n",
        "import numpy as np\n",
        "from sklearn.pipeline import Pipeline\n",
        "from sklearn.preprocessing import StandardScaler\n",
        "from sklearn.svm import OneClassSVM\n",
        "import joblib"
      ],
      "execution_count": 106,
      "outputs": []
    },
    {
      "cell_type": "code",
      "metadata": {
        "id": "n1usQFZMbTNc",
        "outputId": "16b46732-e719-461d-d3ec-2f7df866db0a",
        "colab": {
          "base_uri": "https://localhost:8080/",
          "height": 195
        }
      },
      "source": [
        "data = pd.read_csv('/content/CareConnect.csv', header=None)\n",
        "cols = ['heart_rate', 'body_temp', 'systolBP', 'diasBP']\n",
        "data.columns = cols\n",
        "data.head()"
      ],
      "execution_count": 107,
      "outputs": [
        {
          "output_type": "execute_result",
          "data": {
            "text/html": [
              "<div>\n",
              "<style scoped>\n",
              "    .dataframe tbody tr th:only-of-type {\n",
              "        vertical-align: middle;\n",
              "    }\n",
              "\n",
              "    .dataframe tbody tr th {\n",
              "        vertical-align: top;\n",
              "    }\n",
              "\n",
              "    .dataframe thead th {\n",
              "        text-align: right;\n",
              "    }\n",
              "</style>\n",
              "<table border=\"1\" class=\"dataframe\">\n",
              "  <thead>\n",
              "    <tr style=\"text-align: right;\">\n",
              "      <th></th>\n",
              "      <th>heart_rate</th>\n",
              "      <th>body_temp</th>\n",
              "      <th>systolBP</th>\n",
              "      <th>diasBP</th>\n",
              "    </tr>\n",
              "  </thead>\n",
              "  <tbody>\n",
              "    <tr>\n",
              "      <th>0</th>\n",
              "      <td>63</td>\n",
              "      <td>37</td>\n",
              "      <td>107</td>\n",
              "      <td>71</td>\n",
              "    </tr>\n",
              "    <tr>\n",
              "      <th>1</th>\n",
              "      <td>85</td>\n",
              "      <td>37</td>\n",
              "      <td>90</td>\n",
              "      <td>66</td>\n",
              "    </tr>\n",
              "    <tr>\n",
              "      <th>2</th>\n",
              "      <td>71</td>\n",
              "      <td>37</td>\n",
              "      <td>97</td>\n",
              "      <td>79</td>\n",
              "    </tr>\n",
              "    <tr>\n",
              "      <th>3</th>\n",
              "      <td>57</td>\n",
              "      <td>37</td>\n",
              "      <td>114</td>\n",
              "      <td>62</td>\n",
              "    </tr>\n",
              "    <tr>\n",
              "      <th>4</th>\n",
              "      <td>76</td>\n",
              "      <td>37</td>\n",
              "      <td>110</td>\n",
              "      <td>65</td>\n",
              "    </tr>\n",
              "  </tbody>\n",
              "</table>\n",
              "</div>"
            ],
            "text/plain": [
              "   heart_rate  body_temp  systolBP  diasBP\n",
              "0          63         37       107      71\n",
              "1          85         37        90      66\n",
              "2          71         37        97      79\n",
              "3          57         37       114      62\n",
              "4          76         37       110      65"
            ]
          },
          "metadata": {
            "tags": []
          },
          "execution_count": 107
        }
      ]
    },
    {
      "cell_type": "markdown",
      "metadata": {
        "id": "3qOhYOoo96ff"
      },
      "source": [
        "# MODELING"
      ]
    },
    {
      "cell_type": "code",
      "metadata": {
        "id": "8Wod3VPmdvY3",
        "outputId": "7825dd94-a2f3-4f8d-bfb6-01e25ef0f752",
        "colab": {
          "base_uri": "https://localhost:8080/",
          "height": 34
        }
      },
      "source": [
        "model = Pipeline([('scaler', StandardScaler()),('outlierDetector', OneClassSVM(gamma='auto'))])\n",
        "model.fit(data)\n",
        "\n",
        "joblib.dump(model, 'anomalyDetector.joblib')"
      ],
      "execution_count": 108,
      "outputs": [
        {
          "output_type": "execute_result",
          "data": {
            "text/plain": [
              "['anomalyDetector.joblib']"
            ]
          },
          "metadata": {
            "tags": []
          },
          "execution_count": 108
        }
      ]
    },
    {
      "cell_type": "markdown",
      "metadata": {
        "id": "b_3sm26QEeRB"
      },
      "source": [
        "# HOW TO PERFORM INFERENCE\n",
        "\n",
        "* Import all the necessary libraries\n",
        "* model = joblib.load(<name_of_joblib_model_file>)\n",
        "* model.predict([[feat1, feat2, feat3, feat4]])\n",
        "\n",
        "No need to standardize the feature values. That's already incorporated in the pipeline."
      ]
    },
    {
      "cell_type": "code",
      "metadata": {
        "id": "GyG--8GtBfo-",
        "outputId": "6aa81a72-af26-44ba-e9fe-9cfca754b3d6",
        "colab": {
          "base_uri": "https://localhost:8080/",
          "height": 34
        }
      },
      "source": [
        "model2 = joblib.load('anomalyDetector.joblib')\n",
        "model2.predict([[67, 37, 105, 65]])"
      ],
      "execution_count": 109,
      "outputs": [
        {
          "output_type": "execute_result",
          "data": {
            "text/plain": [
              "array([1])"
            ]
          },
          "metadata": {
            "tags": []
          },
          "execution_count": 109
        }
      ]
    }
  ]
}